{
 "cells": [
  {
   "cell_type": "markdown",
   "id": "432a355e-72e1-4e18-a02c-783f25e3392e",
   "metadata": {},
   "source": [
    "# Network Analysis"
   ]
  },
  {
   "cell_type": "code",
   "execution_count": null,
   "id": "d11258b8-df0a-44be-bfd4-dcef9afa1d5c",
   "metadata": {},
   "outputs": [],
   "source": []
  },
  {
   "cell_type": "code",
   "execution_count": 2,
   "id": "48712f8c-34b8-4ffe-b940-86fde550034b",
   "metadata": {},
   "outputs": [],
   "source": [
    "from rdflib import Graph\n",
    "from rdflib.extras.external_graph_libs import rdflib_to_networkx_graph\n",
    "import networkx as nx\n",
    "from networkx import Graph as NXGraph\n",
    "import matplotlib.pyplot as plt\n",
    "import statistics\n",
    "import collections"
   ]
  },
  {
   "cell_type": "code",
   "execution_count": 3,
   "id": "803b7cd9-353d-462a-aa6d-ba84d1d270ae",
   "metadata": {},
   "outputs": [
    {
     "name": "stdout",
     "output_type": "stream",
     "text": [
      "rdflib Graph loaded successfully with 227811 triples\n"
     ]
    }
   ],
   "source": [
    "# RDF graph loading\n",
    "rg = Graph()\n",
    "rg.parse('graph.ttl', format='turtle')\n",
    "print(\"rdflib Graph loaded successfully with {} triples\".format(len(rg)))"
   ]
  },
  {
   "cell_type": "code",
   "execution_count": 7,
   "id": "ff920063-7ef7-4a73-81e8-fa3f4068fed5",
   "metadata": {},
   "outputs": [
    {
     "name": "stdin",
     "output_type": "stream",
     "text": [
      "http://example.org/legal/Judgment \n",
      "http://example.org/legal/importance \n"
     ]
    },
    {
     "ename": "ParseException",
     "evalue": "Expected {SelectQuery | ConstructQuery | DescribeQuery | AskQuery}, found '?'  (at char 52), (line:3, col:13)",
     "output_type": "error",
     "traceback": [
      "\u001b[1;31m---------------------------------------------------------------------------\u001b[0m",
      "\u001b[1;31mParseException\u001b[0m                            Traceback (most recent call last)",
      "Input \u001b[1;32mIn [7]\u001b[0m, in \u001b[0;36m<cell line: 9>\u001b[1;34m()\u001b[0m\n\u001b[0;32m      5\u001b[0m query \u001b[38;5;241m=\u001b[39m \u001b[38;5;124m\"\"\"\u001b[39m\n\u001b[0;32m      6\u001b[0m \u001b[38;5;124mPREFIX ex: <http://example.org/legal/>\u001b[39m\n\u001b[0;32m      7\u001b[0m \u001b[38;5;124mCONSTRUCT \u001b[39m\u001b[38;5;124m{{\u001b[39m\u001b[38;5;124m ?u a \u001b[39m\u001b[38;5;132;01m{}\u001b[39;00m\u001b[38;5;124m . ?u \u001b[39m\u001b[38;5;132;01m{}\u001b[39;00m\u001b[38;5;124m ?v }} WHERE \u001b[39m\u001b[38;5;124m{{\u001b[39m\u001b[38;5;124m ?u a \u001b[39m\u001b[38;5;132;01m{}\u001b[39;00m\u001b[38;5;124m . ?u \u001b[39m\u001b[38;5;132;01m{}\u001b[39;00m\u001b[38;5;124m ?v }}\u001b[39m\u001b[38;5;124m\"\"\"\u001b[39m\u001b[38;5;241m.\u001b[39mformat(entity, relation, entity, relation)\n\u001b[0;32m      8\u001b[0m \u001b[38;5;66;03m# print(query)\u001b[39;00m\n\u001b[1;32m----> 9\u001b[0m subg \u001b[38;5;241m=\u001b[39m \u001b[43mrg\u001b[49m\u001b[38;5;241;43m.\u001b[39;49m\u001b[43mquery\u001b[49m\u001b[43m(\u001b[49m\u001b[43mquery\u001b[49m\u001b[43m)\u001b[49m\n\u001b[0;32m     11\u001b[0m rg \u001b[38;5;241m=\u001b[39m subg\n",
      "File \u001b[1;32m~\\Anaconda3\\lib\\site-packages\\rdflib\\graph.py:1389\u001b[0m, in \u001b[0;36mGraph.query\u001b[1;34m(self, query_object, processor, result, initNs, initBindings, use_store_provided, **kwargs)\u001b[0m\n\u001b[0;32m   1386\u001b[0m \u001b[38;5;28;01mif\u001b[39;00m \u001b[38;5;129;01mnot\u001b[39;00m \u001b[38;5;28misinstance\u001b[39m(processor, query\u001b[38;5;241m.\u001b[39mProcessor):\n\u001b[0;32m   1387\u001b[0m     processor \u001b[38;5;241m=\u001b[39m plugin\u001b[38;5;241m.\u001b[39mget(processor, query\u001b[38;5;241m.\u001b[39mProcessor)(\u001b[38;5;28mself\u001b[39m)\n\u001b[1;32m-> 1389\u001b[0m \u001b[38;5;28;01mreturn\u001b[39;00m result(processor\u001b[38;5;241m.\u001b[39mquery(query_object, initBindings, initNs, \u001b[38;5;241m*\u001b[39m\u001b[38;5;241m*\u001b[39mkwargs))\n",
      "File \u001b[1;32m~\\Anaconda3\\lib\\site-packages\\rdflib\\plugins\\sparql\\processor.py:77\u001b[0m, in \u001b[0;36mSPARQLProcessor.query\u001b[1;34m(self, strOrQuery, initBindings, initNs, base, DEBUG)\u001b[0m\n\u001b[0;32m     70\u001b[0m \u001b[38;5;124;03m\"\"\"\u001b[39;00m\n\u001b[0;32m     71\u001b[0m \u001b[38;5;124;03mEvaluate a query with the given initial bindings, and initial\u001b[39;00m\n\u001b[0;32m     72\u001b[0m \u001b[38;5;124;03mnamespaces. The given base is used to resolve relative URIs in\u001b[39;00m\n\u001b[0;32m     73\u001b[0m \u001b[38;5;124;03mthe query and will be overridden by any BASE given in the query.\u001b[39;00m\n\u001b[0;32m     74\u001b[0m \u001b[38;5;124;03m\"\"\"\u001b[39;00m\n\u001b[0;32m     76\u001b[0m \u001b[38;5;28;01mif\u001b[39;00m \u001b[38;5;129;01mnot\u001b[39;00m \u001b[38;5;28misinstance\u001b[39m(strOrQuery, Query):\n\u001b[1;32m---> 77\u001b[0m     parsetree \u001b[38;5;241m=\u001b[39m \u001b[43mparseQuery\u001b[49m\u001b[43m(\u001b[49m\u001b[43mstrOrQuery\u001b[49m\u001b[43m)\u001b[49m\n\u001b[0;32m     78\u001b[0m     query \u001b[38;5;241m=\u001b[39m translateQuery(parsetree, base, initNs)\n\u001b[0;32m     79\u001b[0m \u001b[38;5;28;01melse\u001b[39;00m:\n",
      "File \u001b[1;32m~\\Anaconda3\\lib\\site-packages\\rdflib\\plugins\\sparql\\parser.py:1536\u001b[0m, in \u001b[0;36mparseQuery\u001b[1;34m(q)\u001b[0m\n\u001b[0;32m   1533\u001b[0m     q \u001b[38;5;241m=\u001b[39m q\u001b[38;5;241m.\u001b[39mdecode(\u001b[38;5;124m\"\u001b[39m\u001b[38;5;124mutf-8\u001b[39m\u001b[38;5;124m\"\u001b[39m)\n\u001b[0;32m   1535\u001b[0m q \u001b[38;5;241m=\u001b[39m expandUnicodeEscapes(q)\n\u001b[1;32m-> 1536\u001b[0m \u001b[38;5;28;01mreturn\u001b[39;00m \u001b[43mQuery\u001b[49m\u001b[38;5;241;43m.\u001b[39;49m\u001b[43mparseString\u001b[49m\u001b[43m(\u001b[49m\u001b[43mq\u001b[49m\u001b[43m,\u001b[49m\u001b[43m \u001b[49m\u001b[43mparseAll\u001b[49m\u001b[38;5;241;43m=\u001b[39;49m\u001b[38;5;28;43;01mTrue\u001b[39;49;00m\u001b[43m)\u001b[49m\n",
      "File \u001b[1;32m~\\Anaconda3\\lib\\site-packages\\pyparsing\\core.py:1107\u001b[0m, in \u001b[0;36mParserElement.parse_string\u001b[1;34m(self, instring, parse_all, parseAll)\u001b[0m\n\u001b[0;32m   1104\u001b[0m         \u001b[38;5;28;01mraise\u001b[39;00m\n\u001b[0;32m   1105\u001b[0m     \u001b[38;5;28;01melse\u001b[39;00m:\n\u001b[0;32m   1106\u001b[0m         \u001b[38;5;66;03m# catch and re-raise exception from here, clearing out pyparsing internal stack trace\u001b[39;00m\n\u001b[1;32m-> 1107\u001b[0m         \u001b[38;5;28;01mraise\u001b[39;00m exc\u001b[38;5;241m.\u001b[39mwith_traceback(\u001b[38;5;28;01mNone\u001b[39;00m)\n\u001b[0;32m   1108\u001b[0m \u001b[38;5;28;01melse\u001b[39;00m:\n\u001b[0;32m   1109\u001b[0m     \u001b[38;5;28;01mreturn\u001b[39;00m tokens\n",
      "\u001b[1;31mParseException\u001b[0m: Expected {SelectQuery | ConstructQuery | DescribeQuery | AskQuery}, found '?'  (at char 52), (line:3, col:13)"
     ]
    }
   ],
   "source": [
    "# TODO: Use entity and relation as parameters of a CONSTRUCT query\n",
    "entity = input(\"http://example.org/legal/Judgment\")\n",
    "relation = input(\"http://example.org/legal/importance\")\n",
    "\n",
    "query = \"\"\"\n",
    "PREFIX ex: <http://example.org/legal/>\n",
    "CONSTRUCT {{ ?u a {} . ?u {} ?v }} WHERE {{ ?u a {} . ?u {} ?v }}\"\"\".format(entity, relation, entity, relation)\n",
    "# print(query)\n",
    "subg = rg.query(query)\n",
    "\n",
    "rg = subg"
   ]
  },
  {
   "cell_type": "code",
   "execution_count": null,
   "id": "9093d051-ab11-459f-ac9b-66264ece9366",
   "metadata": {},
   "outputs": [],
   "source": []
  }
 ],
 "metadata": {
  "kernelspec": {
   "display_name": "Python 3 (ipykernel)",
   "language": "python",
   "name": "python3"
  },
  "language_info": {
   "codemirror_mode": {
    "name": "ipython",
    "version": 3
   },
   "file_extension": ".py",
   "mimetype": "text/x-python",
   "name": "python",
   "nbconvert_exporter": "python",
   "pygments_lexer": "ipython3",
   "version": "3.9.12"
  }
 },
 "nbformat": 4,
 "nbformat_minor": 5
}
